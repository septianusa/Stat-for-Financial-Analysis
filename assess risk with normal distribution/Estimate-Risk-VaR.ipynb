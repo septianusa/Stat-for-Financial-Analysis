{
 "cells": [
  {
   "cell_type": "markdown",
   "metadata": {},
   "source": [
    "# Evaluate Risk of Stock Return Using Normal Distribution\n",
    "\n",
    "## Objective\n",
    "We can model daily stock return using normal distribution. We have a large collection of data return from historic data. We can compute the parameter mean and and standard deviation in this collection. The interesting part is, if we transform log form, the distribution is not same as normal distribution, but it close enough.\n",
    "\n",
    "Then, with calculate area under curve we can calculate the probability of losing or gaining in a certain percentage in one day. Using CDF (cummulative density function) of normal distribution we can calculate the risk. \n",
    "\n",
    "Let X is random variabel for daily return of stock X.\n",
    "How many probability in single day stock X will lose more than 5%?\n",
    "then with CDF we simply find the value for P(X < -0.05) or 1 - P(X > -0.05)\n",
    "\n",
    "## Case Study\n",
    "If talk about risk, then we talk about loss on stock trading. \n",
    "Let say we as trader has loss tolerance around ~15% a years. \n",
    "\n",
    "In this case we will evaluate that BBCA will drop 15% in next 1 years. \n",
    "\n",
    "Stock Code: BBCA (IDX Market)\n",
    "\n",
    "Data Period : Jan 1, 2019 - Dec 31, 2019\n",
    "\n",
    "Problem Statement:\n",
    "1. Probability BBCA drop 5% in a single day\n",
    "2. Probability BBCA gain 5% in a single day\n",
    "3. How likely the stock price of BBCA were dropped over 15% in 1 year (has 220 trading days)\n"
   ]
  },
  {
   "cell_type": "code",
   "execution_count": 39,
   "metadata": {},
   "outputs": [],
   "source": [
    "# to handle dataset\n",
    "import pandas as pd\n",
    "import datetime as dt\n",
    "import numpy as np\n",
    "\n",
    "#to simulate normal distribution\n",
    "from scipy.stats import norm\n",
    "\n",
    "#to visualize\n",
    "import matplotlib.pyplot as plt\n",
    "%matplotlib inline\n",
    "\n",
    "#to crawl stock data\n",
    "import pandas_datareader.data as web"
   ]
  },
  {
   "cell_type": "code",
   "execution_count": 2,
   "metadata": {},
   "outputs": [
    {
     "name": "stdout",
     "output_type": "stream",
     "text": [
      "               High      Low     Open    Close      Volume     Adj Close\n",
      "Date                                                                    \n",
      "2019-01-01  26000.0  26000.0  26000.0  26000.0         0.0  25246.753906\n",
      "2019-01-02  26225.0  26000.0  26000.0  26200.0   7191200.0  25440.958984\n",
      "2019-01-03  26100.0  25575.0  26000.0  25900.0  14471600.0  25149.652344\n",
      "2019-01-04  26025.0  25625.0  25875.0  26025.0  10293000.0  25271.031250\n",
      "2019-01-07  26625.0  26225.0  26325.0  26225.0  14687600.0  25465.236328\n"
     ]
    }
   ],
   "source": [
    "# load data BBCA since 2019 until first 2020\n",
    "start = dt.datetime(2019,1,1)\n",
    "#end = dt.datetime.now() #exclude anomalies due to covid-19\n",
    "end = dt.datetime(2020,1,1)\n",
    "\n",
    "bbca = web.DataReader(\"BBCA.JK\", 'yahoo', start,end)\n",
    "print(bbca.head())"
   ]
  },
  {
   "cell_type": "markdown",
   "metadata": {},
   "source": [
    "### Distribution of LogRetrun"
   ]
  },
  {
   "cell_type": "code",
   "execution_count": 3,
   "metadata": {},
   "outputs": [],
   "source": [
    "# calculating the log return\n",
    "bbca['LogReturn'] = np.log(bbca['Close']).shift(-1) - np.log(bbca['Close'])"
   ]
  },
  {
   "cell_type": "code",
   "execution_count": 8,
   "metadata": {},
   "outputs": [
    {
     "data": {
      "text/plain": [
       "[<matplotlib.lines.Line2D at 0x1a1f47aa50>]"
      ]
     },
     "execution_count": 8,
     "metadata": {},
     "output_type": "execute_result"
    },
    {
     "data": {
      "image/png": "[encoded data removed]",
      "text/plain": [
       "<Figure size 576x288 with 1 Axes>"
      ]
     },
     "metadata": {
      "needs_background": "light"
     },
     "output_type": "display_data"
    }
   ],
   "source": [
    "# estimate parameter mu and sigma\n",
    "mu = bbca['LogReturn'].mean()\n",
    "sigma = bbca['LogReturn'].std(ddof=1)\n",
    "\n",
    "#generate normal distribution with parameter mu and sigma\n",
    "density = pd.DataFrame()\n",
    "density['x'] = np.arange(bbca['LogReturn'].min()-0.01,\n",
    "                         bbca['LogReturn'].max()+0.01,\n",
    "                        0.001)\n",
    "density['pdf'] = norm.pdf(density['x'], mu, sigma)\n",
    "\n",
    "#plot histogram to show distribution log return bbca\n",
    "bbca['LogReturn'].hist(bins=20, figsize =(8,4))\n",
    "plt.plot(density['x'], density['pdf'], color='red')\n"
   ]
  },
  {
   "cell_type": "markdown",
   "metadata": {},
   "source": [
    "### Calculate the probability of stock will drop a certain percentage in a day"
   ]
  },
  {
   "cell_type": "code",
   "execution_count": 14,
   "metadata": {},
   "outputs": [
    {
     "name": "stdout",
     "output_type": "stream",
     "text": [
      "The probability price drop >5% is  4.281117650482636e-08\n"
     ]
    }
   ],
   "source": [
    "# Probability that the stock price of BBCA will drop over 5% in a day\n",
    "prob_drop1 = norm.cdf(-0.05, mu, sigma)\n",
    "print('The probability price drop >5% is ', prob_drop1)"
   ]
  },
  {
   "cell_type": "code",
   "execution_count": 15,
   "metadata": {},
   "outputs": [
    {
     "name": "stdout",
     "output_type": "stream",
     "text": [
      "The probability price gain >5% is  1.3058504377827518e-07\n"
     ]
    }
   ],
   "source": [
    "# otherwise, that the stock price of BBCA will gain over 5% in a day\n",
    "prob_gain1 = 1- norm.cdf(0.05, mu, sigma)\n",
    "print('The probability price gain >5% is ', prob_gain1)"
   ]
  },
  {
   "cell_type": "markdown",
   "metadata": {},
   "source": [
    "### Calculate the probability of the stock price will drop over a certain percentage in a certain days\n"
   ]
  },
  {
   "cell_type": "code",
   "execution_count": 41,
   "metadata": {},
   "outputs": [
    {
     "name": "stdout",
     "output_type": "stream",
     "text": [
      "The probability of dropping over 10% in 100 days is  0.01889162283265252\n"
     ]
    }
   ],
   "source": [
    "# drop over 10% in 100 trading days\n",
    "mu100 = 100*mu\n",
    "sigma100 = (100**0.5)*sigma\n",
    "drop10_100 = norm.cdf(-0.10, mu100, sigma100)\n",
    "print ('The probability of dropping over 10% in 100 days is ',drop10_100)"
   ]
  },
  {
   "cell_type": "code",
   "execution_count": 43,
   "metadata": {},
   "outputs": [
    {
     "name": "stdout",
     "output_type": "stream",
     "text": [
      "The probability of dropping over 15% in a year is  0.00486555996441276\n"
     ]
    }
   ],
   "source": [
    "# drop over 15% in 220 trading days\n",
    "mu220 = 220*mu\n",
    "sigma220 = (220**0.5)*sigma\n",
    "drop15_220 = norm.cdf(-0.15, mu220, sigma220)\n",
    "print ('The probability of dropping over 15% in a year is ',drop15_220)"
   ]
  },
  {
   "cell_type": "markdown",
   "metadata": {},
   "source": [
    "However, on case above we make assumption that daily return are independent which is quite wrong. \n",
    "\n",
    "To get the parameter mean and variance of a year return, we have formulas for sum of variabels. We need the independence when we compute the variance. If the data returns independent the variance of a unit return is equal to the sum of a variance of 22o daily return.\n",
    "\n",
    "Finding quantiles of the normal distribution is a common task when performaning statistical test in the financial risk management. In finance related to the quantile there is an important risk measure value of risk or VaR. It estimates how much a set of investments might lose with a given probability."
   ]
  },
  {
   "cell_type": "markdown",
   "metadata": {},
   "source": [
    "# Calculate Value at Risk (VaR)\n",
    "VaR is typically used by firms and the regulators in the financial industry to gauge the amount of assess needed to cover possible loss."
   ]
  },
  {
   "cell_type": "code",
   "execution_count": 33,
   "metadata": {},
   "outputs": [
    {
     "name": "stdout",
     "output_type": "stream",
     "text": [
      "Single day value at risk  -0.01468129553887808\n"
     ]
    }
   ],
   "source": [
    "#calculate VaR\n",
    "VaR = norm.ppf(0.05, mu, sigma) #ppf stand for percent point function\n",
    "print('Single day value at risk ', VaR)"
   ]
  },
  {
   "cell_type": "code",
   "execution_count": 37,
   "metadata": {},
   "outputs": [
    {
     "name": "stdout",
     "output_type": "stream",
     "text": [
      "5% quantile  -0.01468129553887808\n",
      "95% quantile  0.0166362183790845\n"
     ]
    }
   ],
   "source": [
    "# Quantile\n",
    "# 5% quantile\n",
    "print('5% quantile ', norm.ppf(0.05, mu, sigma))\n",
    "\n",
    "#95% quantile\n",
    "print('95% quantile ', norm.ppf(0.95, mu, sigma))"
   ]
  },
  {
   "cell_type": "markdown",
   "metadata": {},
   "source": [
    "5% of quantile of daily return is called a 95% VaR. From result above 95% VaR is -0.01468. \n",
    "It means with the 5% chance that daily return is worse than -1.4% (loss 1.4%)."
   ]
  },
  {
   "cell_type": "code",
   "execution_count": null,
   "metadata": {},
   "outputs": [],
   "source": []
  }
 ],
 "metadata": {
  "kernelspec": {
   "display_name": "Python 3",
   "language": "python",
   "name": "python3"
  },
  "language_info": {
   "codemirror_mode": {
    "name": "ipython",
    "version": 3
   },
   "file_extension": ".py",
   "mimetype": "text/x-python",
   "name": "python",
   "nbconvert_exporter": "python",
   "pygments_lexer": "ipython3",
   "version": "3.7.4"
  }
 },
 "nbformat": 4,
 "nbformat_minor": 2
}
