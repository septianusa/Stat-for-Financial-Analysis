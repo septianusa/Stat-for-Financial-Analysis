{
 "cells": [
  {
   "cell_type": "code",
   "execution_count": 1,
   "metadata": {},
   "outputs": [],
   "source": [
    "# to handle dataset\n",
    "import pandas as pd\n",
    "import datetime as dt\n",
    "import numpy as np\n",
    "\n",
    "#to visualize\n",
    "import matplotlib.pyplot as plt\n",
    "%matplotlib inline\n",
    "\n",
    "#ols regression \n",
    "import statsmodels.formula.api as smf\n",
    "\n",
    "# feature scaling\n",
    "from sklearn.preprocessing import StandardScaler\n",
    "\n",
    "#to crawl stock data\n",
    "import pandas_datareader.data as web"
   ]
  },
  {
   "cell_type": "code",
   "execution_count": 2,
   "metadata": {},
   "outputs": [],
   "source": [
    "import warnings\n",
    "warnings.filterwarnings(\"ignore\")"
   ]
  },
  {
   "cell_type": "code",
   "execution_count": 3,
   "metadata": {},
   "outputs": [],
   "source": [
    "start = dt.datetime(2018,1,1)\n",
    "end = dt.datetime(2020,1,1)\n",
    "# end = dt.datetime.now() \n",
    "\n",
    "asii = web.DataReader(\"ASII.JK\", 'yahoo', start,end)\n",
    "dji = web.DataReader(\"^DJI\",'yahoo',start,end)\n",
    "nikkei = web.DataReader(\"^N225\",'yahoo', start, end)\n",
    "sp500 = web.DataReader(\"^GSPC\",'yahoo', start, end)\n",
    "hsi = web.DataReader(\"^HSI\", 'yahoo',start, end)\n",
    "ihsg = web.DataReader(\"^JKSE\", 'yahoo', start, end)\n"
   ]
  },
  {
   "cell_type": "markdown",
   "metadata": {},
   "source": [
    "## Step 1: Data Munging"
   ]
  },
  {
   "cell_type": "code",
   "execution_count": 4,
   "metadata": {},
   "outputs": [
    {
     "data": {
      "text/html": [
       "<div>\n",
       "<style scoped>\n",
       "    .dataframe tbody tr th:only-of-type {\n",
       "        vertical-align: middle;\n",
       "    }\n",
       "\n",
       "    .dataframe tbody tr th {\n",
       "        vertical-align: top;\n",
       "    }\n",
       "\n",
       "    .dataframe thead th {\n",
       "        text-align: right;\n",
       "    }\n",
       "</style>\n",
       "<table border=\"1\" class=\"dataframe\">\n",
       "  <thead>\n",
       "    <tr style=\"text-align: right;\">\n",
       "      <th></th>\n",
       "      <th>asii</th>\n",
       "      <th>asii_lag1</th>\n",
       "      <th>dji</th>\n",
       "      <th>sp500</th>\n",
       "      <th>hsi</th>\n",
       "      <th>nikkei</th>\n",
       "      <th>ihsg</th>\n",
       "      <th>Price</th>\n",
       "    </tr>\n",
       "    <tr>\n",
       "      <th>Date</th>\n",
       "      <th></th>\n",
       "      <th></th>\n",
       "      <th></th>\n",
       "      <th></th>\n",
       "      <th></th>\n",
       "      <th></th>\n",
       "      <th></th>\n",
       "      <th></th>\n",
       "    </tr>\n",
       "  </thead>\n",
       "  <tbody>\n",
       "    <tr>\n",
       "      <th>2019-12-20</th>\n",
       "      <td>150.0</td>\n",
       "      <td>-25.0</td>\n",
       "      <td>330.330078</td>\n",
       "      <td>31.010010</td>\n",
       "      <td>-36.798828</td>\n",
       "      <td>76.818359</td>\n",
       "      <td>-17.228027</td>\n",
       "      <td>6850.0</td>\n",
       "    </tr>\n",
       "    <tr>\n",
       "      <th>2019-12-23</th>\n",
       "      <td>-200.0</td>\n",
       "      <td>150.0</td>\n",
       "      <td>-116.861328</td>\n",
       "      <td>2.719971</td>\n",
       "      <td>118.208984</td>\n",
       "      <td>100.179688</td>\n",
       "      <td>52.510742</td>\n",
       "      <td>7000.0</td>\n",
       "    </tr>\n",
       "    <tr>\n",
       "      <th>2019-12-26</th>\n",
       "      <td>125.0</td>\n",
       "      <td>-200.0</td>\n",
       "      <td>-33.109375</td>\n",
       "      <td>1.750000</td>\n",
       "      <td>NaN</td>\n",
       "      <td>-137.220703</td>\n",
       "      <td>-6.611816</td>\n",
       "      <td>6800.0</td>\n",
       "    </tr>\n",
       "    <tr>\n",
       "      <th>2019-12-27</th>\n",
       "      <td>0.0</td>\n",
       "      <td>125.0</td>\n",
       "      <td>135.878906</td>\n",
       "      <td>20.030029</td>\n",
       "      <td>-191.759766</td>\n",
       "      <td>116.029297</td>\n",
       "      <td>18.509766</td>\n",
       "      <td>6925.0</td>\n",
       "    </tr>\n",
       "    <tr>\n",
       "      <th>2019-12-30</th>\n",
       "      <td>NaN</td>\n",
       "      <td>0.0</td>\n",
       "      <td>-20.580078</td>\n",
       "      <td>-7.139893</td>\n",
       "      <td>-68.910156</td>\n",
       "      <td>114.310547</td>\n",
       "      <td>7.565918</td>\n",
       "      <td>6925.0</td>\n",
       "    </tr>\n",
       "  </tbody>\n",
       "</table>\n",
       "</div>"
      ],
      "text/plain": [
       "             asii  asii_lag1         dji      sp500         hsi      nikkei  \\\n",
       "Date                                                                          \n",
       "2019-12-20  150.0      -25.0  330.330078  31.010010  -36.798828   76.818359   \n",
       "2019-12-23 -200.0      150.0 -116.861328   2.719971  118.208984  100.179688   \n",
       "2019-12-26  125.0     -200.0  -33.109375   1.750000         NaN -137.220703   \n",
       "2019-12-27    0.0      125.0  135.878906  20.030029 -191.759766  116.029297   \n",
       "2019-12-30    NaN        0.0  -20.580078  -7.139893  -68.910156  114.310547   \n",
       "\n",
       "                 ihsg   Price  \n",
       "Date                           \n",
       "2019-12-20 -17.228027  6850.0  \n",
       "2019-12-23  52.510742  7000.0  \n",
       "2019-12-26  -6.611816  6800.0  \n",
       "2019-12-27  18.509766  6925.0  \n",
       "2019-12-30   7.565918  6925.0  "
      ]
     },
     "execution_count": 4,
     "metadata": {},
     "output_type": "execute_result"
    }
   ],
   "source": [
    "#bind all stock market data into same dataframe\n",
    "# df is the dataframe of our tradng model\n",
    "# due to the timezone issues, we extract and calculate approriate stock market\n",
    "#  data for analysis \n",
    "df = pd.DataFrame(index=asii.index)\n",
    "#df['asii'] = np.log(asii['Open'].shift(-1)) - np.log(asii['Open'])\n",
    "df['asii'] = asii['Open'].shift(-1) - asii['Open']\n",
    "df['asii_lag1'] = df['asii'].shift(1)   \n",
    "df['dji'] = dji['Open'] - dji['Open'].shift(1)\n",
    "df['sp500'] = sp500['Open']- sp500['Open'].shift(1)\n",
    "df['hsi'] = hsi['Open']- hsi['Close']\n",
    "df['nikkei'] = nikkei['Open'] - nikkei['Close']\n",
    "df['ihsg'] = ihsg['Open'] - ihsg['Open'].shift(1)\n",
    "df['Price'] = asii['Open']\n",
    "df.tail()"
   ]
  },
  {
   "cell_type": "code",
   "execution_count": 5,
   "metadata": {},
   "outputs": [
    {
     "data": {
      "text/plain": [
       "asii         0.001927\n",
       "asii_lag1    0.001927\n",
       "dji          0.036609\n",
       "sp500        0.036609\n",
       "hsi          0.055877\n",
       "nikkei       0.065511\n",
       "ihsg         0.067437\n",
       "Price        0.000000\n",
       "dtype: float64"
      ]
     },
     "execution_count": 5,
     "metadata": {},
     "output_type": "execute_result"
    }
   ],
   "source": [
    "#checking for NaN Values in dataframe\n",
    "df.isnull().mean()"
   ]
  },
  {
   "cell_type": "code",
   "execution_count": 6,
   "metadata": {},
   "outputs": [
    {
     "name": "stdout",
     "output_type": "stream",
     "text": [
      "(516, 8)\n"
     ]
    }
   ],
   "source": [
    "# use fillna() from dataframe to forwad filling the NaN values\n",
    "# then we can drop the reminding Nan values\n",
    "df = df.fillna(method='ffill')\n",
    "df = df.dropna()\n",
    "\n",
    "print(df.shape)"
   ]
  },
  {
   "cell_type": "markdown",
   "metadata": {},
   "source": [
    "## Step 2 : Split Data"
   ]
  },
  {
   "cell_type": "code",
   "execution_count": 7,
   "metadata": {},
   "outputs": [],
   "source": [
    "# Split the data into train set and test set (out of sample)\n",
    "train = df.iloc[0:300, :] \n",
    "test = df.iloc[300:516, :]"
   ]
  },
  {
   "cell_type": "code",
   "execution_count": 8,
   "metadata": {},
   "outputs": [
    {
     "name": "stdout",
     "output_type": "stream",
     "text": [
      "(300, 8) (216, 8)\n"
     ]
    },
    {
     "data": {
      "text/html": [
       "<div>\n",
       "<style scoped>\n",
       "    .dataframe tbody tr th:only-of-type {\n",
       "        vertical-align: middle;\n",
       "    }\n",
       "\n",
       "    .dataframe tbody tr th {\n",
       "        vertical-align: top;\n",
       "    }\n",
       "\n",
       "    .dataframe thead th {\n",
       "        text-align: right;\n",
       "    }\n",
       "</style>\n",
       "<table border=\"1\" class=\"dataframe\">\n",
       "  <thead>\n",
       "    <tr style=\"text-align: right;\">\n",
       "      <th></th>\n",
       "      <th>asii</th>\n",
       "      <th>asii_lag1</th>\n",
       "      <th>dji</th>\n",
       "      <th>sp500</th>\n",
       "      <th>hsi</th>\n",
       "      <th>nikkei</th>\n",
       "      <th>ihsg</th>\n",
       "      <th>Price</th>\n",
       "    </tr>\n",
       "    <tr>\n",
       "      <th>Date</th>\n",
       "      <th></th>\n",
       "      <th></th>\n",
       "      <th></th>\n",
       "      <th></th>\n",
       "      <th></th>\n",
       "      <th></th>\n",
       "      <th></th>\n",
       "      <th></th>\n",
       "    </tr>\n",
       "  </thead>\n",
       "  <tbody>\n",
       "    <tr>\n",
       "      <th>2018-01-04</th>\n",
       "      <td>75.0</td>\n",
       "      <td>-175.0</td>\n",
       "      <td>114.410156</td>\n",
       "      <td>21.459961</td>\n",
       "      <td>-44.769531</td>\n",
       "      <td>-432.599609</td>\n",
       "      <td>-83.554199</td>\n",
       "      <td>8075.0</td>\n",
       "    </tr>\n",
       "    <tr>\n",
       "      <th>2018-01-05</th>\n",
       "      <td>150.0</td>\n",
       "      <td>75.0</td>\n",
       "      <td>150.060547</td>\n",
       "      <td>12.020020</td>\n",
       "      <td>79.218750</td>\n",
       "      <td>-71.529297</td>\n",
       "      <td>21.740234</td>\n",
       "      <td>8150.0</td>\n",
       "    </tr>\n",
       "    <tr>\n",
       "      <th>2018-01-08</th>\n",
       "      <td>0.0</td>\n",
       "      <td>150.0</td>\n",
       "      <td>193.480469</td>\n",
       "      <td>11.339844</td>\n",
       "      <td>-4.439453</td>\n",
       "      <td>-71.529297</td>\n",
       "      <td>74.904785</td>\n",
       "      <td>8300.0</td>\n",
       "    </tr>\n",
       "    <tr>\n",
       "      <th>2018-01-09</th>\n",
       "      <td>-25.0</td>\n",
       "      <td>0.0</td>\n",
       "      <td>3.650391</td>\n",
       "      <td>8.479980</td>\n",
       "      <td>-77.900391</td>\n",
       "      <td>98.980469</td>\n",
       "      <td>39.512207</td>\n",
       "      <td>8300.0</td>\n",
       "    </tr>\n",
       "    <tr>\n",
       "      <th>2018-01-10</th>\n",
       "      <td>0.0</td>\n",
       "      <td>-25.0</td>\n",
       "      <td>36.080078</td>\n",
       "      <td>-5.599854</td>\n",
       "      <td>-64.480469</td>\n",
       "      <td>44.611328</td>\n",
       "      <td>-12.956055</td>\n",
       "      <td>8275.0</td>\n",
       "    </tr>\n",
       "  </tbody>\n",
       "</table>\n",
       "</div>"
      ],
      "text/plain": [
       "             asii  asii_lag1         dji      sp500        hsi      nikkei  \\\n",
       "Date                                                                         \n",
       "2018-01-04   75.0     -175.0  114.410156  21.459961 -44.769531 -432.599609   \n",
       "2018-01-05  150.0       75.0  150.060547  12.020020  79.218750  -71.529297   \n",
       "2018-01-08    0.0      150.0  193.480469  11.339844  -4.439453  -71.529297   \n",
       "2018-01-09  -25.0        0.0    3.650391   8.479980 -77.900391   98.980469   \n",
       "2018-01-10    0.0      -25.0   36.080078  -5.599854 -64.480469   44.611328   \n",
       "\n",
       "                 ihsg   Price  \n",
       "Date                           \n",
       "2018-01-04 -83.554199  8075.0  \n",
       "2018-01-05  21.740234  8150.0  \n",
       "2018-01-08  74.904785  8300.0  \n",
       "2018-01-09  39.512207  8300.0  \n",
       "2018-01-10 -12.956055  8275.0  "
      ]
     },
     "execution_count": 8,
     "metadata": {},
     "output_type": "execute_result"
    }
   ],
   "source": [
    "print(train.shape, test.shape)\n",
    "train.head()"
   ]
  },
  {
   "cell_type": "markdown",
   "metadata": {},
   "source": [
    "## Step 3: Explore the train data set"
   ]
  },
  {
   "cell_type": "code",
   "execution_count": null,
   "metadata": {},
   "outputs": [],
   "source": [
    "# generate scatter matrix among all stock markets to observe the association\n",
    "\n",
    "from pandas.plotting import scatter_matrix\n",
    "sm = scatter_matrix(train, figsize=(10, 10))"
   ]
  },
  {
   "cell_type": "code",
   "execution_count": null,
   "metadata": {},
   "outputs": [],
   "source": [
    "corr_array = train.iloc[:, :].corr()['asii']\n",
    "print(corr_array)"
   ]
  },
  {
   "cell_type": "code",
   "execution_count": null,
   "metadata": {},
   "outputs": [],
   "source": [
    "formula = 'asii ~ asii_lag1 + dji + sp500 + hsi + nikkei + ihsg + Price'\n",
    "lm = smf.ols(formula= formula, data=train).fit()\n",
    "lm.summary()"
   ]
  },
  {
   "cell_type": "markdown",
   "metadata": {},
   "source": [
    "## Step 4: Make Prediction"
   ]
  },
  {
   "cell_type": "code",
   "execution_count": null,
   "metadata": {},
   "outputs": [],
   "source": [
    "train['prediction'] = lm.predict(train)\n",
    "test['prediction'] = lm.predict(test)\n",
    "plt.scatter(train['asii'], train['prediction'])"
   ]
  },
  {
   "cell_type": "markdown",
   "metadata": {},
   "source": [
    "## Step 5: Model Evaluation - Statistical Standard\n"
   ]
  },
  {
   "cell_type": "code",
   "execution_count": null,
   "metadata": {},
   "outputs": [],
   "source": [
    "# RMSE - Root Mean Squared Error, Adjusted R^2\n",
    "def adjustedMetric(data, model, model_k, yname):\n",
    "    data['yhat'] = model.predict(data)\n",
    "    SST = ((data[yname] - data[yname].mean())**2).sum()\n",
    "    SSR = ((data['yhat'] - data[yname].mean())**2).sum()\n",
    "    SSE = ((data[yname] - data['yhat'])**2).sum()\n",
    "    r2 = SSR/SST\n",
    "    adjustR2 = 1 - (1-r2)*(data.shape[0] - 1)/(data.shape[0] -model_k -1)\n",
    "    RMSE = (SSE/(data.shape[0] -model_k -1))**0.5\n",
    "    return adjustR2, RMSE"
   ]
  },
  {
   "cell_type": "code",
   "execution_count": null,
   "metadata": {},
   "outputs": [],
   "source": [
    "def assessTable(test, train, model, model_k, yname):\n",
    "    r2test, RMSEtest = adjustedMetric(test, model, model_k, yname)\n",
    "    r2train, RMSEtrain = adjustedMetric(train, model, model_k, yname)\n",
    "    assessment = pd.DataFrame(index=['R2', 'RMSE'], columns=['Train', 'Test'])\n",
    "    assessment['Train'] = [r2train, RMSEtrain]\n",
    "    assessment['Test'] = [r2test, RMSEtest]\n",
    "    return assessment"
   ]
  },
  {
   "cell_type": "code",
   "execution_count": null,
   "metadata": {},
   "outputs": [],
   "source": [
    "# get the assesment table for model\n",
    "assessTable(test,train,lm,7,'asii')"
   ]
  },
  {
   "cell_type": "markdown",
   "metadata": {},
   "source": [
    "## Step 6: Profit of Signal-based strategy"
   ]
  },
  {
   "cell_type": "code",
   "execution_count": null,
   "metadata": {},
   "outputs": [],
   "source": [
    "# Train\n",
    "train['Order'] = [1 if sig >0 else -1 for sig in train['prediction']]\n",
    "train['Profit'] = train['asii'] * train['Order']\n",
    "\n",
    "train['Wealth'] =train['Profit'].cumsum()\n",
    "print('Total profit made in train ', train['Profit'].sum())"
   ]
  },
  {
   "cell_type": "code",
   "execution_count": null,
   "metadata": {},
   "outputs": [],
   "source": [
    "train.head()"
   ]
  },
  {
   "cell_type": "code",
   "execution_count": null,
   "metadata": {},
   "outputs": [],
   "source": [
    "plt.figure(figsize=(10, 10))\n",
    "plt.title('Performance of Strategy in Train')\n",
    "plt.plot(train['Wealth'].values, color='green', label='Signal based strategy')\n",
    "plt.plot(train['asii'].cumsum().values, color='red', label='Buy and Hold strategy')\n",
    "plt.legend()\n",
    "plt.show()"
   ]
  },
  {
   "cell_type": "code",
   "execution_count": null,
   "metadata": {},
   "outputs": [],
   "source": [
    "# Test\n",
    "test['Order'] = [1 if sig >0 else  -1 for sig in test['prediction']]\n",
    "test['Profit'] = test['asii'] * test['Order']\n",
    "\n",
    "test['Wealth'] = test['Profit'].cumsum()\n",
    "print ('Total profit made in Test: ', test['Profit'].sum())"
   ]
  },
  {
   "cell_type": "code",
   "execution_count": null,
   "metadata": {},
   "outputs": [],
   "source": [
    "plt.figure(figsize=(10, 10))\n",
    "plt.title('Performance of Strategy in Test')\n",
    "plt.plot(test['Wealth'].values, color='green', label='Signal based strategy')\n",
    "plt.plot(test['asii'].cumsum().values, color='red', label='Buy and Hold strategy')\n",
    "plt.legend()\n",
    "plt.show()"
   ]
  },
  {
   "cell_type": "markdown",
   "metadata": {},
   "source": [
    "## Final Step: Evaluation of model - Practical Standard\n",
    "There are 2 common practical standard to evaluate trading model performance. _Sharpe Ratio_ and _Maximum Drawdown_"
   ]
  },
  {
   "cell_type": "code",
   "execution_count": null,
   "metadata": {},
   "outputs": [],
   "source": [
    "train['Wealth'] = train['Wealth'] + train.loc[train.index[0],'Price']\n",
    "test['Wealth'] = test['Wealth'] + test.loc[test.index[0],'Price']"
   ]
  },
  {
   "cell_type": "code",
   "execution_count": null,
   "metadata": {},
   "outputs": [],
   "source": [
    "# Sharpe Ratio on Train data\n",
    "train['Return'] = np.log(train['Wealth']) - np.log(train['Wealth'].shift(1))\n",
    "dailyr = train['Return'].dropna()\n",
    "\n",
    "print('Daily Sharpe Ratio is ', dailyr.mean()/dailyr.std(ddof=1))\n",
    "print('Yearly Sharpe Ratio is ', (252**0.5)*dailyr.mean()/dailyr.std(ddof=1))"
   ]
  },
  {
   "cell_type": "code",
   "execution_count": null,
   "metadata": {},
   "outputs": [],
   "source": [
    "# Sharpe Ratio on Test data\n",
    "test['Return'] = np.log(test['Wealth']) - np.log(test['Wealth'].shift(1))\n",
    "dailyr = test['Return'].dropna()\n",
    "\n",
    "print('Daily Sharpe Ratio is ', dailyr.mean()/dailyr.std(ddof=1))\n",
    "print('Yearly Sharpe Ratio is ', (252**0.5)*dailyr.mean()/dailyr.std(ddof=1))"
   ]
  },
  {
   "cell_type": "code",
   "execution_count": null,
   "metadata": {},
   "outputs": [],
   "source": [
    "# Maximum Drawdown in train data\n",
    "train['Peak'] = train['Wealth'].cummax()\n",
    "train['Drawdown'] = (train['Peak']- train['Wealth'])/train['Peak']\n",
    "print('Maximum Drawdown in train is ', train['Drawdown'].max())"
   ]
  },
  {
   "cell_type": "code",
   "execution_count": null,
   "metadata": {},
   "outputs": [],
   "source": [
    "# Maximum Drawdown in test data\n",
    "test['Peak'] = test['Wealth'].cummax()\n",
    "test['Drawdown'] = (test['Peak']- test['Wealth'])/test['Peak']\n",
    "print('Maximum Drawdown in train is ', test['Drawdown'].max())"
   ]
  },
  {
   "cell_type": "code",
   "execution_count": null,
   "metadata": {},
   "outputs": [],
   "source": []
  }
 ],
 "metadata": {
  "kernelspec": {
   "display_name": "Python 3",
   "language": "python",
   "name": "python3"
  },
  "language_info": {
   "codemirror_mode": {
    "name": "ipython",
    "version": 3
   },
   "file_extension": ".py",
   "mimetype": "text/x-python",
   "name": "python",
   "nbconvert_exporter": "python",
   "pygments_lexer": "ipython3",
   "version": "3.7.4"
  }
 },
 "nbformat": 4,
 "nbformat_minor": 2
}
